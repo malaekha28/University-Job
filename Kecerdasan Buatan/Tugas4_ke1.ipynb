{
  "nbformat": 4,
  "nbformat_minor": 0,
  "metadata": {
    "colab": {
      "provenance": []
    },
    "kernelspec": {
      "name": "python3",
      "display_name": "Python 3"
    },
    "language_info": {
      "name": "python"
    }
  },
  "cells": [
    {
      "cell_type": "markdown",
      "source": [
        "MALAEKHA RAFLI LINDAN ISKANDAR - 4522210010"
      ],
      "metadata": {
        "id": "Pi4_HnO1fSQC"
      }
    },
    {
      "cell_type": "code",
      "execution_count": 2,
      "metadata": {
        "id": "MCmRHYb8fMOU"
      },
      "outputs": [],
      "source": [
        "import pandas as pd\n",
        "import numpy as np\n",
        "import matplotlib.pyplot as plt\n",
        "import pydotplus\n",
        "from sklearn.tree import export_graphviz, DecisionTreeClassifier\n"
      ]
    }
  ]
}